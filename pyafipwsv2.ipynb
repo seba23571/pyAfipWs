{
  "nbformat": 4,
  "nbformat_minor": 0,
  "metadata": {
    "colab": {
      "provenance": []
    },
    "kernelspec": {
      "name": "python3",
      "display_name": "Python 3"
    },
    "language_info": {
      "name": "python"
    }
  },
  "cells": [
    {
      "cell_type": "code",
      "execution_count": 1,
      "metadata": {
        "colab": {
          "base_uri": "https://localhost:8080/"
        },
        "id": "CPRzg9dMnnPN",
        "outputId": "9f93db44-6626-409b-d494-8b803077f69e"
      },
      "outputs": [
        {
          "output_type": "stream",
          "name": "stdout",
          "text": [
            "Looking in indexes: https://pypi.org/simple, https://us-python.pkg.dev/colab-wheels/public/simple/\n",
            "Collecting https://github.com/reingart/pyafipws/archive/main.zip\n",
            "  Downloading https://github.com/reingart/pyafipws/archive/main.zip\n",
            "\u001b[2K     \u001b[32m/\u001b[0m \u001b[32m2.4 MB\u001b[0m \u001b[31m8.9 MB/s\u001b[0m \u001b[33m0:00:00\u001b[0m\n",
            "\u001b[?25h  Preparing metadata (setup.py) ... \u001b[?25l\u001b[?25hdone\n",
            "Saved ./main.zip\n",
            "Successfully downloaded PyAfipWs\n"
          ]
        }
      ],
      "source": [
        "!pip download https://github.com/reingart/pyafipws/archive/main.zip"
      ]
    },
    {
      "cell_type": "code",
      "source": [
        "!python -m zipfile -e main.zip ."
      ],
      "metadata": {
        "id": "SmEKmMGqntgu"
      },
      "execution_count": 2,
      "outputs": []
    },
    {
      "cell_type": "code",
      "source": [
        "!cd pyafipws-main"
      ],
      "metadata": {
        "id": "xjhx0oJLnyPd"
      },
      "execution_count": 4,
      "outputs": []
    },
    {
      "cell_type": "code",
      "source": [
        "ls !cd pyafipws-main !pip install -r requirements.txt"
      ],
      "metadata": {
        "colab": {
          "base_uri": "https://localhost:8080/"
        },
        "id": "nzVThCpVn3RV",
        "outputId": "58f40cef-c495-4fcd-8c3f-f64a39ac033c"
      },
      "execution_count": 5,
      "outputs": [
        {
          "output_type": "stream",
          "name": "stdout",
          "text": [
            "ls: cannot access '!cd': No such file or directory\n",
            "ls: cannot access '!pip': No such file or directory\n",
            "ls: cannot access 'install': No such file or directory\n",
            "ls: cannot access 'requirements.txt': No such file or directory\n",
            "pyafipws-main:\n",
            "ws_sr_padron.py  wscpe_cli.py     setup_win.py          pyemail.py\n",
            "ws_sire.py       wscoc.py         setup.py              \u001b[0m\u001b[01;34mplantillas\u001b[0m/\n",
            "wsremharina.py   wscdc.py         setup.cfg             padron.py\n",
            "wsremcarne.py    wsbfev1.py       setup.bat             nsis.py\n",
            "wsremazucar.py   wsaa.py          rg3685.py             Makefile\n",
            "wsmtx.py         wdigdepfiel.py   requirements.txt      licencia.txt\n",
            "wslum.py         venv.bat         requirements-dev.txt  __init__.py\n",
            "wsltv.py         utils.py         recex1.py             iibb.py\n",
            "wslsp.py         \u001b[01;34mtypelib\u001b[0m/         recet.py              \u001b[01;34mformatos\u001b[0m/\n",
            "wslpg.py         trazavet.py      recem.py              \u001b[01;34mejemplos\u001b[0m/\n",
            "wslpg_datos.py   trazarenpre.py   receb1.py             \u001b[01;34mdatos\u001b[0m/\n",
            "wsfexv1.py       trazaprodmed.py  rece1.py              cot.py\n",
            "wsfev1.py        trazamed.py      README.md             COPYING.LESSER\n",
            "wsfecred.py      trazafito.py     pytest.ini            COPYING\n",
            "wsct.py          \u001b[01;34mtests\u001b[0m/           pyqr.py               CONTRIBUTING.md\n",
            "wsctg.py         \u001b[01;34msrc\u001b[0m/             pyi25.py              \u001b[01;34mconf\u001b[0m/\n",
            "wscpe.py         sired.py         pyfepdf.py\n"
          ]
        }
      ]
    },
    {
      "cell_type": "code",
      "source": [
        "!cd pyafipws-main"
      ],
      "metadata": {
        "id": "o9mrPT-qoDxG"
      },
      "execution_count": 6,
      "outputs": []
    },
    {
      "cell_type": "code",
      "source": [
        " cd pyafipws-main"
      ],
      "metadata": {
        "colab": {
          "base_uri": "https://localhost:8080/"
        },
        "id": "g_wG19nrobZV",
        "outputId": "84947aa2-ce78-4345-c61e-e50745c1b72f"
      },
      "execution_count": 7,
      "outputs": [
        {
          "output_type": "stream",
          "name": "stdout",
          "text": [
            "/content/pyafipws-main\n"
          ]
        }
      ]
    },
    {
      "cell_type": "code",
      "source": [
        "!pip install -r requirements.txt"
      ],
      "metadata": {
        "colab": {
          "base_uri": "https://localhost:8080/",
          "height": 1000
        },
        "id": "0clIp6G3o2BM",
        "outputId": "53ee685b-59f0-40da-d244-ae2f4fa761af"
      },
      "execution_count": 8,
      "outputs": [
        {
          "output_type": "stream",
          "name": "stdout",
          "text": [
            "Looking in indexes: https://pypi.org/simple, https://us-python.pkg.dev/colab-wheels/public/simple/\n",
            "Ignoring httplib2: markers 'python_version <= \"2.7\"' don't match your environment\n",
            "Ignoring pysimplesoap: markers 'python_version <= \"2.7\"' don't match your environment\n",
            "Collecting git+https://github.com/pysimplesoap/pysimplesoap.git@py311#pysimplesoap (from -r requirements.txt (line 4))\n",
            "  Cloning https://github.com/pysimplesoap/pysimplesoap.git (to revision py311) to /tmp/pip-req-build-6xncv1hq\n",
            "  Running command git clone --filter=blob:none --quiet https://github.com/pysimplesoap/pysimplesoap.git /tmp/pip-req-build-6xncv1hq\n",
            "  Running command git checkout -b py311 --track origin/py311\n",
            "  Switched to a new branch 'py311'\n",
            "  Branch 'py311' set up to track remote branch 'py311' from 'origin'.\n",
            "  Resolved https://github.com/pysimplesoap/pysimplesoap.git to commit 09f8712b0725d1e431c2d789f120f43c451e8d48\n",
            "  Preparing metadata (setup.py) ... \u001b[?25l\u001b[?25hdone\n",
            "Ignoring cryptography: markers 'python_version <= \"2.7\"' don't match your environment\n",
            "Collecting httplib2==0.20.4 (from -r requirements.txt (line 2))\n",
            "  Downloading httplib2-0.20.4-py3-none-any.whl (96 kB)\n",
            "\u001b[2K     \u001b[90m━━━━━━━━━━━━━━━━━━━━━━━━━━━━━━━━━━━━━━━━\u001b[0m \u001b[32m96.6/96.6 kB\u001b[0m \u001b[31m10.4 MB/s\u001b[0m eta \u001b[36m0:00:00\u001b[0m\n",
            "\u001b[?25hCollecting cryptography==3.4.7 (from -r requirements.txt (line 6))\n",
            "  Downloading cryptography-3.4.7-cp36-abi3-manylinux2014_x86_64.whl (3.2 MB)\n",
            "\u001b[2K     \u001b[90m━━━━━━━━━━━━━━━━━━━━━━━━━━━━━━━━━━━━━━━━\u001b[0m \u001b[32m3.2/3.2 MB\u001b[0m \u001b[31m83.9 MB/s\u001b[0m eta \u001b[36m0:00:00\u001b[0m\n",
            "\u001b[?25hCollecting fpdf>=1.7.2 (from -r requirements.txt (line 7))\n",
            "  Downloading fpdf-1.7.2.tar.gz (39 kB)\n",
            "  Preparing metadata (setup.py) ... \u001b[?25l\u001b[?25hdone\n",
            "Collecting dbf>=0.88.019 (from -r requirements.txt (line 8))\n",
            "  Downloading dbf-0.99.3-py3-none-any.whl (107 kB)\n",
            "\u001b[2K     \u001b[90m━━━━━━━━━━━━━━━━━━━━━━━━━━━━━━━━━━━━━━\u001b[0m \u001b[32m107.6/107.6 kB\u001b[0m \u001b[31m14.9 MB/s\u001b[0m eta \u001b[36m0:00:00\u001b[0m\n",
            "\u001b[?25hRequirement already satisfied: Pillow>=2.0.0 in /usr/local/lib/python3.10/dist-packages (from -r requirements.txt (line 9)) (8.4.0)\n",
            "Collecting tabulate==0.8.5 (from -r requirements.txt (line 10))\n",
            "  Downloading tabulate-0.8.5.tar.gz (45 kB)\n",
            "\u001b[2K     \u001b[90m━━━━━━━━━━━━━━━━━━━━━━━━━━━━━━━━━━━━━━━━\u001b[0m \u001b[32m45.9/45.9 kB\u001b[0m \u001b[31m5.5 MB/s\u001b[0m eta \u001b[36m0:00:00\u001b[0m\n",
            "\u001b[?25h  Preparing metadata (setup.py) ... \u001b[?25l\u001b[?25hdone\n",
            "Requirement already satisfied: certifi>=2020.4.5.1 in /usr/local/lib/python3.10/dist-packages (from -r requirements.txt (line 11)) (2022.12.7)\n",
            "Collecting qrcode==6.1 (from -r requirements.txt (line 12))\n",
            "  Downloading qrcode-6.1-py2.py3-none-any.whl (31 kB)\n",
            "Requirement already satisfied: future==0.18.3 in /usr/local/lib/python3.10/dist-packages (from -r requirements.txt (line 13)) (0.18.3)\n",
            "Requirement already satisfied: pyparsing!=3.0.0,!=3.0.1,!=3.0.2,!=3.0.3,<4,>=2.4.2 in /usr/local/lib/python3.10/dist-packages (from httplib2==0.20.4->-r requirements.txt (line 2)) (3.0.9)\n",
            "Requirement already satisfied: cffi>=1.12 in /usr/local/lib/python3.10/dist-packages (from cryptography==3.4.7->-r requirements.txt (line 6)) (1.15.1)\n",
            "Requirement already satisfied: six in /usr/local/lib/python3.10/dist-packages (from qrcode==6.1->-r requirements.txt (line 12)) (1.16.0)\n",
            "Collecting aenum (from dbf>=0.88.019->-r requirements.txt (line 8))\n",
            "  Downloading aenum-3.1.12-py3-none-any.whl (131 kB)\n",
            "\u001b[2K     \u001b[90m━━━━━━━━━━━━━━━━━━━━━━━━━━━━━━━━━━━━━━\u001b[0m \u001b[32m131.8/131.8 kB\u001b[0m \u001b[31m14.2 MB/s\u001b[0m eta \u001b[36m0:00:00\u001b[0m\n",
            "\u001b[?25hRequirement already satisfied: pycparser in /usr/local/lib/python3.10/dist-packages (from cffi>=1.12->cryptography==3.4.7->-r requirements.txt (line 6)) (2.21)\n",
            "Building wheels for collected packages: tabulate, PySimpleSOAP, fpdf\n",
            "  Building wheel for tabulate (setup.py) ... \u001b[?25l\u001b[?25hdone\n",
            "  Created wheel for tabulate: filename=tabulate-0.8.5-py3-none-any.whl size=23253 sha256=21830d1a271d9ff1803abbc06b0483c2d23901b67b4e3f13a6b8a04903ea31dc\n",
            "  Stored in directory: /root/.cache/pip/wheels/df/a8/b1/d1e6fabd21899e50e9d974641e3ab74a5dfb2a0341ce0b3b9d\n",
            "  Building wheel for PySimpleSOAP (setup.py) ... \u001b[?25l\u001b[?25hdone\n",
            "  Created wheel for PySimpleSOAP: filename=PySimpleSOAP-1.8.14-py3-none-any.whl size=28327 sha256=d039be5c937e427f7da0e5831d89a964255c6a5385a77f4a062a3fd96f849d90\n",
            "  Stored in directory: /tmp/pip-ephem-wheel-cache-zgt8fslz/wheels/85/be/61/f8a407b38813f246f42888c68a3078bb3cd51ea439b38ccd65\n",
            "  Building wheel for fpdf (setup.py) ... \u001b[?25l\u001b[?25hdone\n",
            "  Created wheel for fpdf: filename=fpdf-1.7.2-py2.py3-none-any.whl size=40704 sha256=6e47d54373a85ad4e1735dbe65c1351baaeeec3dd4b389eb9941143a8df7f85b\n",
            "  Stored in directory: /root/.cache/pip/wheels/f9/95/ba/f418094659025eb9611f17cbcaf2334236bf39a0c3453ea455\n",
            "Successfully built tabulate PySimpleSOAP fpdf\n",
            "Installing collected packages: tabulate, PySimpleSOAP, fpdf, aenum, qrcode, httplib2, dbf, cryptography\n",
            "  Attempting uninstall: tabulate\n",
            "    Found existing installation: tabulate 0.8.10\n",
            "    Uninstalling tabulate-0.8.10:\n",
            "      Successfully uninstalled tabulate-0.8.10\n",
            "  Attempting uninstall: httplib2\n",
            "    Found existing installation: httplib2 0.21.0\n",
            "    Uninstalling httplib2-0.21.0:\n",
            "      Successfully uninstalled httplib2-0.21.0\n",
            "  Attempting uninstall: cryptography\n",
            "    Found existing installation: cryptography 40.0.2\n",
            "    Uninstalling cryptography-40.0.2:\n",
            "      Successfully uninstalled cryptography-40.0.2\n",
            "Successfully installed PySimpleSOAP-1.8.14 aenum-3.1.12 cryptography-3.4.7 dbf-0.99.3 fpdf-1.7.2 httplib2-0.20.4 qrcode-6.1 tabulate-0.8.5\n"
          ]
        },
        {
          "output_type": "display_data",
          "data": {
            "application/vnd.colab-display-data+json": {
              "pip_warning": {
                "packages": [
                  "httplib2"
                ]
              }
            }
          },
          "metadata": {}
        }
      ]
    },
    {
      "cell_type": "code",
      "source": [
        "!python setup.py install"
      ],
      "metadata": {
        "colab": {
          "base_uri": "https://localhost:8080/"
        },
        "id": "il1ZTR60pPto",
        "outputId": "da1cd7fa-0cf6-43d8-8988-2ddfd60e58b6"
      },
      "execution_count": 9,
      "outputs": [
        {
          "output_type": "stream",
          "name": "stdout",
          "text": [
            "/usr/local/lib/python3.10/dist-packages/setuptools/_distutils/cmd.py:66: SetuptoolsDeprecationWarning: setup.py install is deprecated.\n",
            "!!\n",
            "\n",
            "        ********************************************************************************\n",
            "        Please avoid running ``setup.py`` directly.\n",
            "        Instead, use pypa/build, pypa/installer, pypa/build or\n",
            "        other standards-based tools.\n",
            "\n",
            "        See https://blog.ganssle.io/articles/2021/10/setup-py-deprecated.html for details.\n",
            "        ********************************************************************************\n",
            "\n",
            "!!\n",
            "  self.initialize_options()\n",
            "/usr/local/lib/python3.10/dist-packages/setuptools/_distutils/cmd.py:66: EasyInstallDeprecationWarning: easy_install command is deprecated.\n",
            "!!\n",
            "\n",
            "        ********************************************************************************\n",
            "        Please avoid running ``setup.py`` and ``easy_install``.\n",
            "        Instead, use pypa/build, pypa/installer, pypa/build or\n",
            "        other standards-based tools.\n",
            "\n",
            "        See https://github.com/pypa/setuptools/issues/917 for details.\n",
            "        ********************************************************************************\n",
            "\n",
            "!!\n",
            "  self.initialize_options()\n",
            "zip_safe flag not set; analyzing archive contents...\n",
            "pyafipws.__pycache__.cot.cpython-310: module references __file__\n",
            "pyafipws.__pycache__.iibb.cpython-310: module references __file__\n",
            "pyafipws.__pycache__.nsis.cpython-310: module references __file__\n",
            "pyafipws.__pycache__.pyfepdf.cpython-310: module references __file__\n",
            "pyafipws.__pycache__.setup_win.cpython-310: module references __file__\n",
            "pyafipws.__pycache__.utils.cpython-310: module references __file__\n",
            "pyafipws.__pycache__.utils.cpython-310: module references __path__\n",
            "pyafipws.__pycache__.utils.cpython-310: module MAY be using inspect.trace\n",
            "pyafipws.__pycache__.wscoc.cpython-310: module references __file__\n",
            "pyafipws.__pycache__.wsctg.cpython-310: module references __file__\n",
            "pyafipws.__pycache__.wsfecred.cpython-310: module references __file__\n",
            "pyafipws.__pycache__.wsremazucar.cpython-310: module references __file__\n",
            "pyafipws.__pycache__.wsremcarne.cpython-310: module references __file__\n",
            "pyafipws.__pycache__.wsremharina.cpython-310: module references __file__\n"
          ]
        }
      ]
    },
    {
      "cell_type": "code",
      "source": [
        "!curl -o reingart.zip https://www.sistemasagiles.com.ar/soft/pyafipws/reingart.zip"
      ],
      "metadata": {
        "colab": {
          "base_uri": "https://localhost:8080/"
        },
        "id": "E18g3QVZpWDl",
        "outputId": "99a1276b-afc5-48dc-bf88-ba36f93e61ef"
      },
      "execution_count": 10,
      "outputs": [
        {
          "output_type": "stream",
          "name": "stdout",
          "text": [
            "  % Total    % Received % Xferd  Average Speed   Time    Time     Time  Current\n",
            "                                 Dload  Upload   Total   Spent    Left  Speed\n",
            "100 15533  100 15533    0     0   7551      0  0:00:02  0:00:02 --:--:--  7551\n"
          ]
        }
      ]
    },
    {
      "cell_type": "code",
      "source": [
        "!python -m zipfile -e reingart.zip /content/pyafipws-main"
      ],
      "metadata": {
        "id": "QkCxa-jIphEd"
      },
      "execution_count": 11,
      "outputs": []
    },
    {
      "cell_type": "code",
      "source": [
        "!cp conf/*.ini ."
      ],
      "metadata": {
        "id": "xRoLPKSnpir2"
      },
      "execution_count": 12,
      "outputs": []
    },
    {
      "cell_type": "code",
      "source": [
        "!python -m pyafipws.wsaa"
      ],
      "metadata": {
        "colab": {
          "base_uri": "https://localhost:8080/"
        },
        "id": "GRiPMuZnpl3V",
        "outputId": "5380aa31-363d-46f6-dea6-74badbbbf86f"
      },
      "execution_count": 13,
      "outputs": [
        {
          "output_type": "stream",
          "name": "stdout",
          "text": [
            "Encodign in UTF-8\n",
            "Usando CRT=reingart.crt KEY=reingart.key URL=https://wsaahomo.afip.gov.ar/ws/services/LoginCms SERVICE=wsfe TTL=36000\n",
            "WSAA Version 3.13a  False\n",
            "<?xml version=\"1.0\" encoding=\"UTF-8\" standalone=\"yes\"?>\n",
            "<loginTicketResponse version=\"1.0\">\n",
            "    <header>\n",
            "        <source>CN=wsaahomo, O=AFIP, C=AR, SERIALNUMBER=CUIT 33693450239</source>\n",
            "        <destination>SERIALNUMBER=CUIT 20267565393, CN=reingart2021</destination>\n",
            "        <uniqueId>2782013465</uniqueId>\n",
            "        <generationTime>2023-06-15T12:53:34.234-03:00</generationTime>\n",
            "        <expirationTime>2023-06-16T00:53:34.234-03:00</expirationTime>\n",
            "    </header>\n",
            "    <credentials>\n",
            "        <token>PD94bWwgdmVyc2lvbj0iMS4wIiBlbmNvZGluZz0iVVRGLTgiIHN0YW5kYWxvbmU9InllcyI/Pgo8c3NvIHZlcnNpb249IjIuMCI+CiAgICA8aWQgc3JjPSJDTj13c2FhaG9tbywgTz1BRklQLCBDPUFSLCBTRVJJQUxOVU1CRVI9Q1VJVCAzMzY5MzQ1MDIzOSIgZHN0PSJDTj13c2ZlLCBPPUFGSVAsIEM9QVIiIHVuaXF1ZV9pZD0iMjY2OTI1OTg2OCIgZ2VuX3RpbWU9IjE2ODY4NDQzNTQiIGV4cF90aW1lPSIxNjg2ODg3NjE0Ii8+CiAgICA8b3BlcmF0aW9uIHR5cGU9ImxvZ2luIiB2YWx1ZT0iZ3JhbnRlZCI+CiAgICAgICAgPGxvZ2luIGVudGl0eT0iMzM2OTM0NTAyMzkiIHNlcnZpY2U9IndzZmUiIHVpZD0iU0VSSUFMTlVNQkVSPUNVSVQgMjAyNjc1NjUzOTMsIENOPXJlaW5nYXJ0MjAyMSIgYXV0aG1ldGhvZD0iY21zIiByZWdtZXRob2Q9IjIyIj4KICAgICAgICAgICAgPHJlbGF0aW9ucz4KICAgICAgICAgICAgICAgIDxyZWxhdGlvbiBrZXk9IjIwMjY3NTY1MzkzIiByZWx0eXBlPSI0Ii8+CiAgICAgICAgICAgIDwvcmVsYXRpb25zPgogICAgICAgIDwvbG9naW4+CiAgICA8L29wZXJhdGlvbj4KPC9zc28+Cg==</token>\n",
            "        <sign>ExxBsbjPSugPzyZ+7kfqqtTQMYOobY701ZtsVGuvf8Iu+QGYVckWt0aVOOc6TVhL7xb0qJVTDYpOgkDSJ3P++T4ikKu2Y4K4KXyNBiYAvbjF7YJGuJiBeM7g2iJgz1ZmL45nKplD6I5/yTbQi99vg8aZqkD0MYjNK/m7GEtyecM=</sign>\n",
            "    </credentials>\n",
            "</loginTicketResponse>\n",
            "\n"
          ]
        }
      ]
    },
    {
      "cell_type": "code",
      "source": [
        "!python -m pyafipws.wsfev1 --prueba"
      ],
      "metadata": {
        "colab": {
          "base_uri": "https://localhost:8080/"
        },
        "id": "XbwD9Hh5pqkW",
        "outputId": "c6168caa-d6a8-46f6-8d13-ce41aa34927a"
      },
      "execution_count": 14,
      "outputs": [
        {
          "output_type": "stream",
          "name": "stdout",
          "text": [
            "Leyendo TA de /usr/local/lib/python3.10/dist-packages/PyAfipWs-3.10.0-py3.10.egg/pyafipws/cache/TA-c3fceb4177f107abed1c1012ce1deac7.xml...\n",
            "b\"FECAESolicitar(Auth=*{'Token': <class 'str'>, 'Sign': <class 'str'>, 'Cuit': <alias 'long' for '<class 'int'>'>}*, FeCAEReq=*{'FeCabReq': *{'CantReg': <class 'int'>, 'PtoVta': <class 'int'>, 'CbteTipo': <class 'int'>}*, 'FeDetReq': [*{'FECAEDetRequest': *{'Concepto': <class 'int'>, 'DocTipo': <class 'int'>, 'DocNro': <alias 'long' for '<class 'int'>'>, 'CbteDesde': <alias 'long' for '<class 'int'>'>, 'CbteHasta': <alias 'long' for '<class 'int'>'>, 'CbteFch': <class 'str'>, 'ImpTotal': <alias 'double' for '<class 'float'>'>, 'ImpTotConc': <alias 'double' for '<class 'float'>'>, 'ImpNeto': <alias 'double' for '<class 'float'>'>, 'ImpOpEx': <alias 'double' for '<class 'float'>'>, 'ImpTrib': <alias 'double' for '<class 'float'>'>, 'ImpIVA': <alias 'double' for '<class 'float'>'>, 'FchServDesde': <class 'str'>, 'FchServHasta': <class 'str'>, 'FchVtoPago': <class 'str'>, 'MonId': <class 'str'>, 'MonCotiz': <alias 'double' for '<class 'float'>'>, 'CbtesAsoc': [*{'CbteAsoc': *{'Tipo': <class 'int'>, 'PtoVta': <class 'int'>, 'Nro': <alias 'long' for '<class 'int'>'>, 'Cuit': <class 'str'>, 'CbteFch': <class 'str'>}*}*], 'Tributos': [*{'Tributo': *{'Id': <alias 'short' for '<class 'int'>'>, 'Desc': <class 'str'>, 'BaseImp': <alias 'double' for '<class 'float'>'>, 'Alic': <alias 'double' for '<class 'float'>'>, 'Importe': <alias 'double' for '<class 'float'>'>}*}*], 'Iva': [*{'AlicIva': *{'Id': <class 'int'>, 'BaseImp': <alias 'double' for '<class 'float'>'>, 'Importe': <alias 'double' for '<class 'float'>'>}*}*], 'Opcionales': [*{'Opcional': *{'Id': <class 'str'>, 'Valor': <class 'str'>}*}*], 'Compradores': [*{'Comprador': *{'DocTipo': <class 'int'>, 'DocNro': <alias 'long' for '<class 'int'>'>, 'Porcentaje': <alias 'double' for '<class 'float'>'>}*}*], 'PeriodoAsoc': *{'FchDesde': <class 'str'>, 'FchHasta': <class 'str'>}*, 'Actividades': [*{'Actividad': *{'Id': <alias 'long' for '<class 'int'>'>}*}*]}*}*]}*)\\n -> **{'FECAESolicitarResult': *{'FeCabResp': *{'Cuit': <alias 'long' for '<class 'int'>'>, 'PtoVta': <class 'int'>, 'CbteTipo': <class 'int'>, 'FchProceso': <class 'str'>, 'CantReg': <class 'int'>, 'Resultado': <class 'str'>, 'Reproceso': <class 'str'>}*, 'FeDetResp': [*{'FECAEDetResponse': *{'Concepto': <class 'int'>, 'DocTipo': <class 'int'>, 'DocNro': <alias 'long' for '<class 'int'>'>, 'CbteDesde': <alias 'long' for '<class 'int'>'>, 'CbteHasta': <alias 'long' for '<class 'int'>'>, 'CbteFch': <class 'str'>, 'Resultado': <class 'str'>, 'Observaciones': [*{'Obs': *{'Code': <class 'int'>, 'Msg': <class 'str'>}*}*], 'CAE': <class 'str'>, 'CAEFchVto': <class 'str'>}*}*], 'Events': [*{'Evt': *{'Code': <class 'int'>, 'Msg': <class 'str'>}*}*], 'Errors': [*{'Err': *{'Code': <class 'int'>, 'Msg': <class 'str'>}*}*]}*}**:\\n\\nSolicitud de C\\xf3digo de Autorizaci\\xf3n Electr\\xf3nico (CAE)\\nHeaders: None\"\n",
            "Nro. Cbte. desde-hasta 1121 1121\n",
            "Resultado A\n",
            "Reproceso \n",
            "CAE 73243093858869\n",
            "Vencimiento 20230625\n",
            "Observaciones 10217: El credito fiscal discriminado en el presente comprobante solo podra ser computado a efectos del Procedimiento permanente de transicion al Regimen General.\n",
            "73243093858869 == 73243093858869\n",
            "3 != 2\n",
            "10217 != 10017\n",
            "El credito fiscal discriminado en el presente comprobante solo podra ser computado a efectos del Procedimiento permanente de transicion al Regimen General.\n"
          ]
        }
      ]
    },
    {
      "cell_type": "code",
      "source": [
        "!python  --version"
      ],
      "metadata": {
        "colab": {
          "base_uri": "https://localhost:8080/"
        },
        "id": "3uUsGbQ0p4FF",
        "outputId": "d4534918-1ee0-4097-af16-6ff16e2d1764"
      },
      "execution_count": 15,
      "outputs": [
        {
          "output_type": "stream",
          "name": "stdout",
          "text": [
            "Python 3.10.12\n"
          ]
        }
      ]
    },
    {
      "cell_type": "code",
      "source": [
        "!lsb_release -a"
      ],
      "metadata": {
        "colab": {
          "base_uri": "https://localhost:8080/"
        },
        "id": "PImhnKPSp6lo",
        "outputId": "e33ccb68-00c0-4410-b811-e56a07e3aaea"
      },
      "execution_count": 16,
      "outputs": [
        {
          "output_type": "stream",
          "name": "stdout",
          "text": [
            "No LSB modules are available.\n",
            "Distributor ID:\tUbuntu\n",
            "Description:\tUbuntu 20.04.5 LTS\n",
            "Release:\t20.04\n",
            "Codename:\tfocal\n"
          ]
        }
      ]
    }
  ]
}